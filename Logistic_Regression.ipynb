{
  "nbformat": 4,
  "nbformat_minor": 0,
  "metadata": {
    "colab": {
      "name": "Logistic Regression.ipynb",
      "provenance": [],
      "collapsed_sections": []
    },
    "kernelspec": {
      "name": "python3",
      "display_name": "Python 3"
    },
    "language_info": {
      "name": "python"
    },
    "accelerator": "GPU"
  },
  "cells": [
    {
      "cell_type": "code",
      "metadata": {
        "colab": {
          "base_uri": "https://localhost:8080/"
        },
        "id": "NdRnpXjjQaEh",
        "outputId": "1b057f66-64a4-4bca-a268-c23043d0b026"
      },
      "source": [
        "from google.colab import drive\n",
        "drive.mount('/content/drive')"
      ],
      "execution_count": null,
      "outputs": [
        {
          "output_type": "stream",
          "name": "stdout",
          "text": [
            "Mounted at /content/drive\n"
          ]
        }
      ]
    },
    {
      "cell_type": "code",
      "metadata": {
        "id": "LeZG76p8Qr0A"
      },
      "source": [
        "import numpy as np\n",
        "import pandas as pd\n",
        "import matplotlib.pyplot as plt\n",
        "import seaborn as sns\n",
        "import random\n",
        "import pickle"
      ],
      "execution_count": null,
      "outputs": []
    },
    {
      "cell_type": "code",
      "metadata": {
        "id": "SAk_DdYxQuMB"
      },
      "source": [
        "train = pd.read_csv(\"drive/Shared drives/MATH156 Project/Data/train.csv\")\n",
        "test = pd.read_csv(\"drive/Shared drives/MATH156 Project/Data/test.csv\")"
      ],
      "execution_count": null,
      "outputs": []
    },
    {
      "cell_type": "code",
      "metadata": {
        "id": "7buPQ2kIRAxm"
      },
      "source": [
        "X_train = train['review'].tolist()\n",
        "y_train = train['sentiment'].tolist()"
      ],
      "execution_count": null,
      "outputs": []
    },
    {
      "cell_type": "code",
      "metadata": {
        "id": "zogJMrXnRG7V"
      },
      "source": [
        "X_test = test['review'].tolist()\n",
        "y_test = test['sentiment'].tolist()"
      ],
      "execution_count": null,
      "outputs": []
    },
    {
      "cell_type": "code",
      "metadata": {
        "id": "FGXjk4upRKsy"
      },
      "source": [
        "#with open('drive/My Drive/yelp_sentiment_analysis/pickles/vectorizer.pickle', 'rb') as f:\n",
        " #   vectorizer = pickle.load(f)\n",
        "\n",
        "with open('drive/Shared drives/MATH156 Project/Data/pickles/X_train_dtm.pickle', 'rb') as f:\n",
        "    X_train_dtm = pickle.load(f)\n",
        "\n",
        "with open('drive/Shared drives/MATH156 Project/Data/pickles/X_test_dtm.pickle', 'rb') as f:\n",
        "    X_test_dtm = pickle.load(f)"
      ],
      "execution_count": null,
      "outputs": []
    },
    {
      "cell_type": "code",
      "metadata": {
        "id": "ojqB-xJwRWn_"
      },
      "source": [
        "from sklearn.linear_model import LogisticRegression\n",
        "from sklearn.model_selection import GridSearchCV"
      ],
      "execution_count": null,
      "outputs": []
    },
    {
      "cell_type": "code",
      "source": [
        "# Grid-search for c\n",
        "params = dict(C = np.logspace(-3, 0, 4),\n",
        "               penalty = ['l1', 'l2'])\n",
        "\n",
        "gscv = GridSearchCV(LogisticRegression(max_iter=1000,\n",
        "                                        random_state=647),\n",
        "                    params,\n",
        "                    scoring='f1_macro',\n",
        "                    cv=3,\n",
        "                    verbose=1,\n",
        "                    n_jobs=-1)"
      ],
      "metadata": {
        "id": "pcdLqwJvEzuP"
      },
      "execution_count": null,
      "outputs": []
    },
    {
      "cell_type": "code",
      "source": [
        "gscv.fit(X_train_dtm, y_train)"
      ],
      "metadata": {
        "id": "QomMbiiSE0Cd"
      },
      "execution_count": null,
      "outputs": []
    },
    {
      "cell_type": "code",
      "metadata": {
        "id": "mjW2fLcwRsl-"
      },
      "source": [
        "model = LogisticRegression(C=0.01,\n",
        "                            penalty='l2',\n",
        "                            max_iter=1000,\n",
        "                            random_state=647,\n",
        "                            n_jobs=-1)"
      ],
      "execution_count": null,
      "outputs": []
    },
    {
      "cell_type": "code",
      "metadata": {
        "colab": {
          "base_uri": "https://localhost:8080/"
        },
        "id": "6Gxsj18PSdVR",
        "outputId": "9d84bf74-9d40-486f-daca-d65a2c201b6e"
      },
      "source": [
        "%time model.fit(X_train_dtm, y_train)"
      ],
      "execution_count": null,
      "outputs": [
        {
          "output_type": "stream",
          "name": "stdout",
          "text": [
            "CPU times: user 4.21 s, sys: 1.23 s, total: 5.44 s\n",
            "Wall time: 10min 38s\n"
          ]
        },
        {
          "output_type": "execute_result",
          "data": {
            "text/plain": [
              "LogisticRegression(C=0.01, max_iter=1000, n_jobs=-1, random_state=647)"
            ]
          },
          "metadata": {},
          "execution_count": 11
        }
      ]
    },
    {
      "cell_type": "code",
      "metadata": {
        "id": "8OCthVxIXFIG"
      },
      "source": [
        "with open('drive/Shared drives/MATH156 Project/Data/pickles/logistic_regression.pickle', 'wb') as f:\n",
        "  pickle.dump(model, f)"
      ],
      "execution_count": null,
      "outputs": []
    },
    {
      "cell_type": "code",
      "metadata": {
        "id": "6nOKo5YrXdDA"
      },
      "source": [
        "with open('drive/Shared drives/MATH156 Project/Data/pickles/logistic_regression.pickle', 'rb') as f:\n",
        "  model = pickle.load(f)"
      ],
      "execution_count": null,
      "outputs": []
    },
    {
      "cell_type": "code",
      "metadata": {
        "colab": {
          "base_uri": "https://localhost:8080/"
        },
        "id": "E63IyYs6YLOf",
        "outputId": "4f664fa3-2085-4732-a0ca-03fa8145c864"
      },
      "source": [
        "model.score(X_test_dtm, y_test)"
      ],
      "execution_count": null,
      "outputs": [
        {
          "output_type": "execute_result",
          "data": {
            "text/plain": [
              "0.868008306588635"
            ]
          },
          "metadata": {},
          "execution_count": 14
        }
      ]
    },
    {
      "cell_type": "code",
      "source": [
        ""
      ],
      "metadata": {
        "id": "XpY_a7Ir0po4"
      },
      "execution_count": null,
      "outputs": []
    }
  ]
}