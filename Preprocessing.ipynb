{
 "cells": [
  {
   "cell_type": "markdown",
   "id": "eeb7931e",
   "metadata": {},
   "source": [
    "# Data Preparation"
   ]
  },
  {
   "cell_type": "code",
   "execution_count": 1,
   "id": "3ad81d01",
   "metadata": {},
   "outputs": [],
   "source": [
    "import pandas as pd\n",
    "import numpy as np\n",
    "import random\n",
    "from matplotlib import pyplot as plt\n",
    "import json\n",
    "import seaborn as sns"
   ]
  },
  {
   "cell_type": "code",
   "execution_count": 3,
   "id": "57cba5bb",
   "metadata": {},
   "outputs": [],
   "source": [
    "review = []\n",
    "\n",
    "with open('yelp_academic_dataset_review.json') as file:\n",
    "      for line in file:\n",
    "            review.append(json.loads(line))\n",
    "\n",
    "review = pd.DataFrame(review)\n",
    "review = review.dropna()"
   ]
  },
  {
   "cell_type": "code",
   "execution_count": 5,
   "id": "ee892b49",
   "metadata": {},
   "outputs": [],
   "source": [
    "#review.to_csv(r'Desktop\\eview.csv', index = False)\n",
    "review.to_csv(r'/Users/langchen777/Desktop/review.csv', index = False)"
   ]
  },
  {
   "cell_type": "code",
   "execution_count": 7,
   "id": "c57c44c2",
   "metadata": {},
   "outputs": [],
   "source": [
    "business = []\n",
    "\n",
    "with open('yelp_academic_dataset_business.json') as file:\n",
    "    for line in file:\n",
    "        business.append(json.loads(line))\n",
    "\n",
    "business = pd.DataFrame(business)\n",
    "business = business.dropna()"
   ]
  },
  {
   "cell_type": "code",
   "execution_count": 8,
   "id": "1f14669e",
   "metadata": {},
   "outputs": [
    {
     "data": {
      "text/html": [
       "<div>\n",
       "<style scoped>\n",
       "    .dataframe tbody tr th:only-of-type {\n",
       "        vertical-align: middle;\n",
       "    }\n",
       "\n",
       "    .dataframe tbody tr th {\n",
       "        vertical-align: top;\n",
       "    }\n",
       "\n",
       "    .dataframe thead th {\n",
       "        text-align: right;\n",
       "    }\n",
       "</style>\n",
       "<table border=\"1\" class=\"dataframe\">\n",
       "  <thead>\n",
       "    <tr style=\"text-align: right;\">\n",
       "      <th></th>\n",
       "      <th>review_count</th>\n",
       "      <th>business_id</th>\n",
       "    </tr>\n",
       "    <tr>\n",
       "      <th>city</th>\n",
       "      <th></th>\n",
       "      <th></th>\n",
       "    </tr>\n",
       "  </thead>\n",
       "  <tbody>\n",
       "    <tr>\n",
       "      <th>Austin</th>\n",
       "      <td>584233</td>\n",
       "      <td>2601</td>\n",
       "    </tr>\n",
       "    <tr>\n",
       "      <th>Portland</th>\n",
       "      <td>515699</td>\n",
       "      <td>2842</td>\n",
       "    </tr>\n",
       "    <tr>\n",
       "      <th>Atlanta</th>\n",
       "      <td>446299</td>\n",
       "      <td>2263</td>\n",
       "    </tr>\n",
       "    <tr>\n",
       "      <th>Boston</th>\n",
       "      <td>379893</td>\n",
       "      <td>1464</td>\n",
       "    </tr>\n",
       "    <tr>\n",
       "      <th>Orlando</th>\n",
       "      <td>357491</td>\n",
       "      <td>2263</td>\n",
       "    </tr>\n",
       "  </tbody>\n",
       "</table>\n",
       "</div>"
      ],
      "text/plain": [
       "          review_count  business_id\n",
       "city                               \n",
       "Austin          584233         2601\n",
       "Portland        515699         2842\n",
       "Atlanta         446299         2263\n",
       "Boston          379893         1464\n",
       "Orlando         357491         2263"
      ]
     },
     "execution_count": 8,
     "metadata": {},
     "output_type": "execute_result"
    }
   ],
   "source": [
    "restaurants = business[business['categories'].str.contains(\"Restaurants\")]\n",
    "\n",
    "open_restaurants = restaurants[restaurants['is_open']==1].reset_index(drop = True)\n",
    "\n",
    "open_restaurants.groupby(['city']).agg({'review_count':'sum', \n",
    "                         'business_id':'size'}).sort_values(by = 'review_count', ascending = False).head(5)"
   ]
  },
  {
   "cell_type": "code",
   "execution_count": 9,
   "id": "37cfd34f",
   "metadata": {},
   "outputs": [
    {
     "name": "stderr",
     "output_type": "stream",
     "text": [
      "/Users/langchen777/LangChen777/anaconda3/lib/python3.8/site-packages/seaborn/distributions.py:2557: FutureWarning: `distplot` is a deprecated function and will be removed in a future version. Please adapt your code to use either `displot` (a figure-level function with similar flexibility) or `histplot` (an axes-level function for histograms).\n",
      "  warnings.warn(msg, FutureWarning)\n"
     ]
    },
    {
     "data": {
      "text/plain": [
       "<AxesSubplot:xlabel='review_count', ylabel='Density'>"
      ]
     },
     "execution_count": 9,
     "metadata": {},
     "output_type": "execute_result"
    },
    {
     "data": {
      "image/png": "[encoded data removed]",
      "text/plain": [
       "<Figure size 432x288 with 1 Axes>"
      ]
     },
     "metadata": {
      "needs_background": "light"
     },
     "output_type": "display_data"
    }
   ],
   "source": [
    "restaurants_in_Portland = open_restaurants[open_restaurants['city'] == 'Portland'].reset_index(drop = True)\n",
    "sns.distplot(restaurants_in_Portland['review_count'])"
   ]
  },
  {
   "cell_type": "code",
   "execution_count": 10,
   "id": "cf0e8f85",
   "metadata": {},
   "outputs": [],
   "source": [
    "restaurant_TO_10plus = restaurants_in_Portland.loc[restaurants_in_Portland['review_count'] >= 10]\n",
    "restaurant_TO_10plu = restaurant_TO_10plus [restaurant_TO_10plus ['is_open']==1].reset_index(drop = True)\n",
    "restaurant_final = restaurant_TO_10plus[['business_id', 'name', 'stars']]\n",
    "restaurant_final = restaurant_final.rename(columns={'name':'business_name', 'stars':'business_stars'})"
   ]
  },
  {
   "cell_type": "code",
   "execution_count": 11,
   "id": "273b4b48",
   "metadata": {},
   "outputs": [],
   "source": [
    "review_final = review[['review_id', 'business_id', 'stars', 'text']]\n",
    "review_final = review_final.rename(columns={'stars':'review_stars', 'text':'review_text'})"
   ]
  },
  {
   "cell_type": "code",
   "execution_count": 12,
   "id": "4f6d6673",
   "metadata": {},
   "outputs": [],
   "source": [
    "dataset = restaurant_final.merge(review_final, how='left', on='business_id', sort=True)"
   ]
  },
  {
   "cell_type": "code",
   "execution_count": 13,
   "id": "61fb654e",
   "metadata": {},
   "outputs": [
    {
     "data": {
      "text/html": [
       "<div>\n",
       "<style scoped>\n",
       "    .dataframe tbody tr th:only-of-type {\n",
       "        vertical-align: middle;\n",
       "    }\n",
       "\n",
       "    .dataframe tbody tr th {\n",
       "        vertical-align: top;\n",
       "    }\n",
       "\n",
       "    .dataframe thead th {\n",
       "        text-align: right;\n",
       "    }\n",
       "</style>\n",
       "<table border=\"1\" class=\"dataframe\">\n",
       "  <thead>\n",
       "    <tr style=\"text-align: right;\">\n",
       "      <th></th>\n",
       "      <th>business_id</th>\n",
       "      <th>business_name</th>\n",
       "      <th>business_stars</th>\n",
       "      <th>review_id</th>\n",
       "      <th>review_stars</th>\n",
       "      <th>review_text</th>\n",
       "    </tr>\n",
       "  </thead>\n",
       "  <tbody>\n",
       "    <tr>\n",
       "      <th>0</th>\n",
       "      <td>--UNNdnHRhsyFUbDgumdtQ</td>\n",
       "      <td>Le Pigeon</td>\n",
       "      <td>4.5</td>\n",
       "      <td>zEbafoN-Vo2wQbCj1whMfg</td>\n",
       "      <td>5.0</td>\n",
       "      <td>Le Pigeon is a dining experience that's a lot ...</td>\n",
       "    </tr>\n",
       "    <tr>\n",
       "      <th>1</th>\n",
       "      <td>--UNNdnHRhsyFUbDgumdtQ</td>\n",
       "      <td>Le Pigeon</td>\n",
       "      <td>4.5</td>\n",
       "      <td>a6NrSv_T4EYF3owwSZHl3A</td>\n",
       "      <td>5.0</td>\n",
       "      <td>We felt so attended to with our meal. Two of o...</td>\n",
       "    </tr>\n",
       "    <tr>\n",
       "      <th>2</th>\n",
       "      <td>--UNNdnHRhsyFUbDgumdtQ</td>\n",
       "      <td>Le Pigeon</td>\n",
       "      <td>4.5</td>\n",
       "      <td>JEzFYK2E2LW9B5YwAxG3Ng</td>\n",
       "      <td>5.0</td>\n",
       "      <td>This dirty bird does not taste like chicken.  ...</td>\n",
       "    </tr>\n",
       "    <tr>\n",
       "      <th>3</th>\n",
       "      <td>--UNNdnHRhsyFUbDgumdtQ</td>\n",
       "      <td>Le Pigeon</td>\n",
       "      <td>4.5</td>\n",
       "      <td>ZeC6FStBg-evnHoOqlvKOQ</td>\n",
       "      <td>5.0</td>\n",
       "      <td>As James Osland would say... 5 stars. We love ...</td>\n",
       "    </tr>\n",
       "    <tr>\n",
       "      <th>4</th>\n",
       "      <td>--UNNdnHRhsyFUbDgumdtQ</td>\n",
       "      <td>Le Pigeon</td>\n",
       "      <td>4.5</td>\n",
       "      <td>PilFuCiQSt3LIdZVA3euHA</td>\n",
       "      <td>5.0</td>\n",
       "      <td>Simply amazing. Our waiter,  Danny, was very k...</td>\n",
       "    </tr>\n",
       "  </tbody>\n",
       "</table>\n",
       "</div>"
      ],
      "text/plain": [
       "              business_id business_name  business_stars  \\\n",
       "0  --UNNdnHRhsyFUbDgumdtQ     Le Pigeon             4.5   \n",
       "1  --UNNdnHRhsyFUbDgumdtQ     Le Pigeon             4.5   \n",
       "2  --UNNdnHRhsyFUbDgumdtQ     Le Pigeon             4.5   \n",
       "3  --UNNdnHRhsyFUbDgumdtQ     Le Pigeon             4.5   \n",
       "4  --UNNdnHRhsyFUbDgumdtQ     Le Pigeon             4.5   \n",
       "\n",
       "                review_id  review_stars  \\\n",
       "0  zEbafoN-Vo2wQbCj1whMfg           5.0   \n",
       "1  a6NrSv_T4EYF3owwSZHl3A           5.0   \n",
       "2  JEzFYK2E2LW9B5YwAxG3Ng           5.0   \n",
       "3  ZeC6FStBg-evnHoOqlvKOQ           5.0   \n",
       "4  PilFuCiQSt3LIdZVA3euHA           5.0   \n",
       "\n",
       "                                         review_text  \n",
       "0  Le Pigeon is a dining experience that's a lot ...  \n",
       "1  We felt so attended to with our meal. Two of o...  \n",
       "2  This dirty bird does not taste like chicken.  ...  \n",
       "3  As James Osland would say... 5 stars. We love ...  \n",
       "4  Simply amazing. Our waiter,  Danny, was very k...  "
      ]
     },
     "execution_count": 13,
     "metadata": {},
     "output_type": "execute_result"
    }
   ],
   "source": [
    "dataset.head()"
   ]
  },
  {
   "cell_type": "code",
   "execution_count": 14,
   "id": "7c1a6260",
   "metadata": {},
   "outputs": [
    {
     "data": {
      "text/plain": [
       "business_id       0\n",
       "business_name     0\n",
       "business_stars    0\n",
       "review_id         0\n",
       "review_stars      0\n",
       "review_text       0\n",
       "dtype: int64"
      ]
     },
     "execution_count": 14,
     "metadata": {},
     "output_type": "execute_result"
    }
   ],
   "source": [
    "dataset.isna().sum()"
   ]
  },
  {
   "cell_type": "code",
   "execution_count": 15,
   "id": "2b2c71f0",
   "metadata": {},
   "outputs": [],
   "source": [
    "dataset.to_csv(r'/Users/langchen777/Desktop/Portland_merge.csv', index = False)"
   ]
  },
  {
   "cell_type": "code",
   "execution_count": 16,
   "id": "121ca7b0",
   "metadata": {},
   "outputs": [],
   "source": [
    "review.to_csv(r'/Users/langchen777/Desktop/review.csv', index = False)"
   ]
  },
  {
   "cell_type": "markdown",
   "id": "8189166e",
   "metadata": {},
   "source": [
    "# Assign Sentiment"
   ]
  },
  {
   "cell_type": "code",
   "execution_count": 17,
   "id": "d59781d8",
   "metadata": {},
   "outputs": [],
   "source": [
    "binary = False\n",
    "tri = True\n",
    "# we assign three sentiments (Positive/Negative/Neutral)"
   ]
  },
  {
   "cell_type": "code",
   "execution_count": 18,
   "id": "05cec9a6",
   "metadata": {},
   "outputs": [],
   "source": [
    "dataset = dataset.loc[:,['review_stars', 'review_text']]"
   ]
  },
  {
   "cell_type": "code",
   "execution_count": 20,
   "id": "c6a203fb",
   "metadata": {},
   "outputs": [],
   "source": [
    "# Function to assign sentiment\n",
    "def get_sentiment(n, binary=False, tri=False):\n",
    "    assert n >= 1 and n <= 5 and type(n) == int\n",
    "    \n",
    "    if binary:\n",
    "        if n == 1 or n == 2:\n",
    "            return 0\n",
    "        elif n == 3:\n",
    "            return -1\n",
    "        else:\n",
    "            return 1\n",
    "    elif tri:\n",
    "        if n == 1 or n == 2:\n",
    "            return 0\n",
    "        elif n == 3:\n",
    "            return 1\n",
    "        else:\n",
    "            return 2\n",
    "    else:\n",
    "        return int(n)"
   ]
  },
  {
   "cell_type": "code",
   "execution_count": 21,
   "id": "03fbf57f",
   "metadata": {},
   "outputs": [
    {
     "data": {
      "text/html": [
       "<div>\n",
       "<style scoped>\n",
       "    .dataframe tbody tr th:only-of-type {\n",
       "        vertical-align: middle;\n",
       "    }\n",
       "\n",
       "    .dataframe tbody tr th {\n",
       "        vertical-align: top;\n",
       "    }\n",
       "\n",
       "    .dataframe thead th {\n",
       "        text-align: right;\n",
       "    }\n",
       "</style>\n",
       "<table border=\"1\" class=\"dataframe\">\n",
       "  <thead>\n",
       "    <tr style=\"text-align: right;\">\n",
       "      <th></th>\n",
       "      <th>review_stars</th>\n",
       "      <th>review_text</th>\n",
       "    </tr>\n",
       "  </thead>\n",
       "  <tbody>\n",
       "    <tr>\n",
       "      <th>0</th>\n",
       "      <td>5.0</td>\n",
       "      <td>Le Pigeon is a dining experience that's a lot ...</td>\n",
       "    </tr>\n",
       "    <tr>\n",
       "      <th>1</th>\n",
       "      <td>5.0</td>\n",
       "      <td>We felt so attended to with our meal. Two of o...</td>\n",
       "    </tr>\n",
       "    <tr>\n",
       "      <th>2</th>\n",
       "      <td>5.0</td>\n",
       "      <td>This dirty bird does not taste like chicken.  ...</td>\n",
       "    </tr>\n",
       "    <tr>\n",
       "      <th>3</th>\n",
       "      <td>5.0</td>\n",
       "      <td>As James Osland would say... 5 stars. We love ...</td>\n",
       "    </tr>\n",
       "    <tr>\n",
       "      <th>4</th>\n",
       "      <td>5.0</td>\n",
       "      <td>Simply amazing. Our waiter,  Danny, was very k...</td>\n",
       "    </tr>\n",
       "  </tbody>\n",
       "</table>\n",
       "</div>"
      ],
      "text/plain": [
       "   review_stars                                        review_text\n",
       "0           5.0  Le Pigeon is a dining experience that's a lot ...\n",
       "1           5.0  We felt so attended to with our meal. Two of o...\n",
       "2           5.0  This dirty bird does not taste like chicken.  ...\n",
       "3           5.0  As James Osland would say... 5 stars. We love ...\n",
       "4           5.0  Simply amazing. Our waiter,  Danny, was very k..."
      ]
     },
     "execution_count": 21,
     "metadata": {},
     "output_type": "execute_result"
    }
   ],
   "source": [
    "dataset.head()"
   ]
  },
  {
   "cell_type": "code",
   "execution_count": 22,
   "id": "296523f6",
   "metadata": {},
   "outputs": [
    {
     "data": {
      "text/plain": [
       "2    387486\n",
       "0     83575\n",
       "1     58639\n",
       "Name: sentiment, dtype: int64"
      ]
     },
     "execution_count": 22,
     "metadata": {},
     "output_type": "execute_result"
    }
   ],
   "source": [
    "dataset = dataset.astype({'review_stars': 'int32'})\n",
    "# Assignment\n",
    "dataset['sentiment'] = dataset['review_stars'].apply(lambda x : get_sentiment(x, binary = binary, tri = tri))\n",
    "dataset['sentiment'].value_counts()"
   ]
  },
  {
   "cell_type": "code",
   "execution_count": 23,
   "id": "dbf864fb",
   "metadata": {},
   "outputs": [],
   "source": [
    "dataset = dataset.reset_index(drop=True)"
   ]
  },
  {
   "cell_type": "code",
   "execution_count": 24,
   "id": "d5777fed",
   "metadata": {},
   "outputs": [],
   "source": [
    "# Remove stars column\n",
    "dataset = dataset.drop('review_stars', axis=1)\n",
    "dataset = dataset.rename(columns={'review_text':'review'})"
   ]
  },
  {
   "cell_type": "code",
   "execution_count": 25,
   "id": "62f6e411",
   "metadata": {},
   "outputs": [
    {
     "data": {
      "text/html": [
       "<div>\n",
       "<style scoped>\n",
       "    .dataframe tbody tr th:only-of-type {\n",
       "        vertical-align: middle;\n",
       "    }\n",
       "\n",
       "    .dataframe tbody tr th {\n",
       "        vertical-align: top;\n",
       "    }\n",
       "\n",
       "    .dataframe thead th {\n",
       "        text-align: right;\n",
       "    }\n",
       "</style>\n",
       "<table border=\"1\" class=\"dataframe\">\n",
       "  <thead>\n",
       "    <tr style=\"text-align: right;\">\n",
       "      <th></th>\n",
       "      <th>review</th>\n",
       "      <th>sentiment</th>\n",
       "    </tr>\n",
       "  </thead>\n",
       "  <tbody>\n",
       "    <tr>\n",
       "      <th>0</th>\n",
       "      <td>Le Pigeon is a dining experience that's a lot ...</td>\n",
       "      <td>2</td>\n",
       "    </tr>\n",
       "    <tr>\n",
       "      <th>1</th>\n",
       "      <td>We felt so attended to with our meal. Two of o...</td>\n",
       "      <td>2</td>\n",
       "    </tr>\n",
       "    <tr>\n",
       "      <th>2</th>\n",
       "      <td>This dirty bird does not taste like chicken.  ...</td>\n",
       "      <td>2</td>\n",
       "    </tr>\n",
       "    <tr>\n",
       "      <th>3</th>\n",
       "      <td>As James Osland would say... 5 stars. We love ...</td>\n",
       "      <td>2</td>\n",
       "    </tr>\n",
       "    <tr>\n",
       "      <th>4</th>\n",
       "      <td>Simply amazing. Our waiter,  Danny, was very k...</td>\n",
       "      <td>2</td>\n",
       "    </tr>\n",
       "  </tbody>\n",
       "</table>\n",
       "</div>"
      ],
      "text/plain": [
       "                                              review  sentiment\n",
       "0  Le Pigeon is a dining experience that's a lot ...          2\n",
       "1  We felt so attended to with our meal. Two of o...          2\n",
       "2  This dirty bird does not taste like chicken.  ...          2\n",
       "3  As James Osland would say... 5 stars. We love ...          2\n",
       "4  Simply amazing. Our waiter,  Danny, was very k...          2"
      ]
     },
     "execution_count": 25,
     "metadata": {},
     "output_type": "execute_result"
    }
   ],
   "source": [
    "dataset.head()"
   ]
  },
  {
   "cell_type": "code",
   "execution_count": 26,
   "id": "a66e4f54",
   "metadata": {},
   "outputs": [
    {
     "data": {
      "text/html": [
       "<div>\n",
       "<style scoped>\n",
       "    .dataframe tbody tr th:only-of-type {\n",
       "        vertical-align: middle;\n",
       "    }\n",
       "\n",
       "    .dataframe tbody tr th {\n",
       "        vertical-align: top;\n",
       "    }\n",
       "\n",
       "    .dataframe thead th {\n",
       "        text-align: right;\n",
       "    }\n",
       "</style>\n",
       "<table border=\"1\" class=\"dataframe\">\n",
       "  <thead>\n",
       "    <tr style=\"text-align: right;\">\n",
       "      <th></th>\n",
       "      <th>sentiment</th>\n",
       "    </tr>\n",
       "  </thead>\n",
       "  <tbody>\n",
       "    <tr>\n",
       "      <th>count</th>\n",
       "      <td>529700.000000</td>\n",
       "    </tr>\n",
       "    <tr>\n",
       "      <th>mean</th>\n",
       "      <td>1.573742</td>\n",
       "    </tr>\n",
       "    <tr>\n",
       "      <th>std</th>\n",
       "      <td>0.748411</td>\n",
       "    </tr>\n",
       "    <tr>\n",
       "      <th>min</th>\n",
       "      <td>0.000000</td>\n",
       "    </tr>\n",
       "    <tr>\n",
       "      <th>25%</th>\n",
       "      <td>1.000000</td>\n",
       "    </tr>\n",
       "    <tr>\n",
       "      <th>50%</th>\n",
       "      <td>2.000000</td>\n",
       "    </tr>\n",
       "    <tr>\n",
       "      <th>75%</th>\n",
       "      <td>2.000000</td>\n",
       "    </tr>\n",
       "    <tr>\n",
       "      <th>max</th>\n",
       "      <td>2.000000</td>\n",
       "    </tr>\n",
       "  </tbody>\n",
       "</table>\n",
       "</div>"
      ],
      "text/plain": [
       "           sentiment\n",
       "count  529700.000000\n",
       "mean        1.573742\n",
       "std         0.748411\n",
       "min         0.000000\n",
       "25%         1.000000\n",
       "50%         2.000000\n",
       "75%         2.000000\n",
       "max         2.000000"
      ]
     },
     "execution_count": 26,
     "metadata": {},
     "output_type": "execute_result"
    }
   ],
   "source": [
    "dataset.describe()"
   ]
  },
  {
   "cell_type": "markdown",
   "id": "fed25dcc",
   "metadata": {},
   "source": [
    "# Split Train and Test Datasets"
   ]
  },
  {
   "cell_type": "code",
   "execution_count": 27,
   "id": "c47cad06",
   "metadata": {},
   "outputs": [],
   "source": [
    "from sklearn.model_selection import train_test_split"
   ]
  },
  {
   "cell_type": "code",
   "execution_count": 28,
   "id": "97dd4a63",
   "metadata": {},
   "outputs": [],
   "source": [
    "train, test = train_test_split(dataset, train_size=0.75)"
   ]
  },
  {
   "cell_type": "code",
   "execution_count": 30,
   "id": "128aa9b5",
   "metadata": {},
   "outputs": [],
   "source": [
    "train.to_csv(r'/Users/langchen777/Desktop/train.csv', index = False)\n",
    "test.to_csv(r'/Users/langchen777/Desktop/test.csv', index = False)"
   ]
  },
  {
   "cell_type": "code",
   "execution_count": 31,
   "id": "689b8831",
   "metadata": {},
   "outputs": [],
   "source": [
    "X_train = train['review'].tolist()\n",
    "y_train = train['sentiment'].tolist()"
   ]
  },
  {
   "cell_type": "code",
   "execution_count": 32,
   "id": "9ad5d682",
   "metadata": {},
   "outputs": [],
   "source": [
    "X_test = test['review'].tolist()\n",
    "y_test = test['sentiment'].tolist()"
   ]
  },
  {
   "cell_type": "markdown",
   "id": "f69dcef0",
   "metadata": {},
   "source": [
    "# Vectorization"
   ]
  },
  {
   "cell_type": "code",
   "execution_count": 33,
   "id": "8313f2d6",
   "metadata": {},
   "outputs": [],
   "source": [
    "import nltk"
   ]
  },
  {
   "cell_type": "code",
   "execution_count": 34,
   "id": "5f033c20",
   "metadata": {},
   "outputs": [
    {
     "name": "stderr",
     "output_type": "stream",
     "text": [
      "[nltk_data] Downloading package punkt to\n",
      "[nltk_data]     /Users/langchen777/nltk_data...\n",
      "[nltk_data]   Unzipping tokenizers/punkt.zip.\n",
      "[nltk_data] Downloading package stopwords to\n",
      "[nltk_data]     /Users/langchen777/nltk_data...\n",
      "[nltk_data]   Unzipping corpora/stopwords.zip.\n",
      "[nltk_data] Downloading package wordnet to\n",
      "[nltk_data]     /Users/langchen777/nltk_data...\n",
      "[nltk_data]   Unzipping corpora/wordnet.zip.\n",
      "[nltk_data] Downloading package averaged_perceptron_tagger to\n",
      "[nltk_data]     /Users/langchen777/nltk_data...\n",
      "[nltk_data]   Unzipping taggers/averaged_perceptron_tagger.zip.\n"
     ]
    },
    {
     "data": {
      "text/plain": [
       "True"
      ]
     },
     "execution_count": 34,
     "metadata": {},
     "output_type": "execute_result"
    }
   ],
   "source": [
    "nltk.download('punkt')\n",
    "nltk.download('stopwords')\n",
    "nltk.download('wordnet')\n",
    "nltk.download('averaged_perceptron_tagger')"
   ]
  },
  {
   "cell_type": "code",
   "execution_count": 35,
   "id": "8782c9a9",
   "metadata": {},
   "outputs": [],
   "source": [
    "\"\"\"\n",
    "vectorizer\n",
    "\"\"\"\n",
    "import re\n",
    "import string\n",
    "\n",
    "from nltk import PorterStemmer, WordNetLemmatizer, sent_tokenize, wordpunct_tokenize, pos_tag\n",
    "from nltk.corpus import wordnet, stopwords\n",
    "from sklearn.feature_extraction.text import CountVectorizer\n",
    "\n",
    "\n",
    "class YelpSentCountVectorizer(CountVectorizer):\n",
    "    def __init__(self, ngram_range=(1, 1),\n",
    "                 remove_nonwords=False, remove_stopwords=False,\n",
    "                 stem=False, lemmatize=False, min_df=1, binary=False):\n",
    "        super().__init__()\n",
    "        self.punct = set(string.punctuation)\n",
    "        self.ngram_range = ngram_range\n",
    "        self.remove_nonwords = remove_nonwords\n",
    "        self.stop_words = set(stopwords.words('english')) if remove_stopwords else set()\n",
    "        self.stemmer = PorterStemmer() if stem else None\n",
    "        self.lemmatizer = WordNetLemmatizer() if lemmatize else None\n",
    "        self.min_df = min_df\n",
    "        self.binary = binary\n",
    "\n",
    "    def lemmatize(self, token, tag):\n",
    "        tag = {\n",
    "            'N': wordnet.NOUN,\n",
    "            'V': wordnet.VERB,\n",
    "            'R': wordnet.ADV,\n",
    "            'J': wordnet.ADJ\n",
    "        }.get(tag[0], wordnet.NOUN)\n",
    "        return self.lemmatizer.lemmatize(token, tag)\n",
    "\n",
    "    def stem(self, token):\n",
    "        return self.stemmer.stem(token)\n",
    "\n",
    "    def build_analyzer(self):\n",
    "        # create the analyzer that will be returned by this method\n",
    "        def analyser(doc):\n",
    "            # Keep only words\n",
    "            doc = re.sub('[^A-Za-z0-9]+', ' ', doc) if self.remove_nonwords else doc\n",
    "            cleaned_tokens = []\n",
    "            # Break the document into sentences\n",
    "            for sent in sent_tokenize(doc):\n",
    "                # Break the sentence into part of speech tagged tokens\n",
    "                for token, tag in pos_tag(wordpunct_tokenize(sent)):\n",
    "                    # Lower case and strip spaces\n",
    "                    token = token.lower()\n",
    "                    token = token.strip()\n",
    "                    # If stopword, ignore token and continue\n",
    "                    if token in self.stop_words:\n",
    "                        continue\n",
    "                    # If punctuation, continue\n",
    "                    if all(char in self.punct for char in token):\n",
    "                        continue\n",
    "                    # Lemmatize/stem the token\n",
    "                    if self.lemmatizer:\n",
    "                        token = self.lemmatize(token, tag)\n",
    "                    elif self.stemmer:\n",
    "                        token = self.stem(token)\n",
    "                    cleaned_tokens.append(token)\n",
    "            # use CountVectorizer's _word_ngrams built in method to extract n-grams\n",
    "            return self._word_ngrams(cleaned_tokens)\n",
    "\n",
    "        return analyser"
   ]
  },
  {
   "cell_type": "code",
   "execution_count": 36,
   "id": "71ca232d",
   "metadata": {},
   "outputs": [],
   "source": [
    "vect = YelpSentCountVectorizer(ngram_range=(1,2),\n",
    "                                        remove_nonwords=True,\n",
    "                                        remove_stopwords=True,\n",
    "                                        stem=False,\n",
    "                                        lemmatize=True)"
   ]
  },
  {
   "cell_type": "code",
   "execution_count": 38,
   "id": "c4f4218f",
   "metadata": {},
   "outputs": [
    {
     "name": "stdout",
     "output_type": "stream",
     "text": [
      "CPU times: user 29min 32s, sys: 34.5 s, total: 30min 6s\n",
      "Wall time: 30min 29s\n"
     ]
    }
   ],
   "source": [
    "%time cv = vect.fit(X_train)"
   ]
  },
  {
   "cell_type": "code",
   "execution_count": 39,
   "id": "300dd887",
   "metadata": {},
   "outputs": [],
   "source": [
    "X_train_dtm = vect.transform(X_train)\n",
    "X_test_dtm = vect.transform(X_test)"
   ]
  },
  {
   "cell_type": "code",
   "execution_count": 41,
   "id": "93991dca",
   "metadata": {},
   "outputs": [
    {
     "ename": "AttributeError",
     "evalue": "to_csv not found",
     "output_type": "error",
     "traceback": [
      "\u001b[0;31m---------------------------------------------------------------------------\u001b[0m",
      "\u001b[0;31mAttributeError\u001b[0m                            Traceback (most recent call last)",
      "\u001b[0;32m<ipython-input-41-267bcd2f1ad9>\u001b[0m in \u001b[0;36m<module>\u001b[0;34m\u001b[0m\n\u001b[0;32m----> 1\u001b[0;31m \u001b[0mX_train_dtm\u001b[0m\u001b[0;34m.\u001b[0m\u001b[0mto_csv\u001b[0m\u001b[0;34m(\u001b[0m\u001b[0;34mr'/Users/langchen777/Desktop/train_dtm.csv'\u001b[0m\u001b[0;34m,\u001b[0m \u001b[0mindex\u001b[0m \u001b[0;34m=\u001b[0m \u001b[0;32mFalse\u001b[0m\u001b[0;34m)\u001b[0m\u001b[0;34m\u001b[0m\u001b[0;34m\u001b[0m\u001b[0m\n\u001b[0m\u001b[1;32m      2\u001b[0m \u001b[0mX_test_dtm\u001b[0m\u001b[0;34m.\u001b[0m\u001b[0mto_csv\u001b[0m\u001b[0;34m(\u001b[0m\u001b[0;34mr'/Users/langchen777/Desktop/test_dtm.csv'\u001b[0m\u001b[0;34m,\u001b[0m \u001b[0mindex\u001b[0m \u001b[0;34m=\u001b[0m \u001b[0;32mFalse\u001b[0m\u001b[0;34m)\u001b[0m\u001b[0;34m\u001b[0m\u001b[0;34m\u001b[0m\u001b[0m\n",
      "\u001b[0;32m~/LangChen777/anaconda3/lib/python3.8/site-packages/scipy/sparse/base.py\u001b[0m in \u001b[0;36m__getattr__\u001b[0;34m(self, attr)\u001b[0m\n\u001b[1;32m    685\u001b[0m             \u001b[0;32mreturn\u001b[0m \u001b[0mself\u001b[0m\u001b[0;34m.\u001b[0m\u001b[0mgetnnz\u001b[0m\u001b[0;34m(\u001b[0m\u001b[0;34m)\u001b[0m\u001b[0;34m\u001b[0m\u001b[0;34m\u001b[0m\u001b[0m\n\u001b[1;32m    686\u001b[0m         \u001b[0;32melse\u001b[0m\u001b[0;34m:\u001b[0m\u001b[0;34m\u001b[0m\u001b[0;34m\u001b[0m\u001b[0m\n\u001b[0;32m--> 687\u001b[0;31m             \u001b[0;32mraise\u001b[0m \u001b[0mAttributeError\u001b[0m\u001b[0;34m(\u001b[0m\u001b[0mattr\u001b[0m \u001b[0;34m+\u001b[0m \u001b[0;34m\" not found\"\u001b[0m\u001b[0;34m)\u001b[0m\u001b[0;34m\u001b[0m\u001b[0;34m\u001b[0m\u001b[0m\n\u001b[0m\u001b[1;32m    688\u001b[0m \u001b[0;34m\u001b[0m\u001b[0m\n\u001b[1;32m    689\u001b[0m     \u001b[0;32mdef\u001b[0m \u001b[0mtranspose\u001b[0m\u001b[0;34m(\u001b[0m\u001b[0mself\u001b[0m\u001b[0;34m,\u001b[0m \u001b[0maxes\u001b[0m\u001b[0;34m=\u001b[0m\u001b[0;32mNone\u001b[0m\u001b[0;34m,\u001b[0m \u001b[0mcopy\u001b[0m\u001b[0;34m=\u001b[0m\u001b[0;32mFalse\u001b[0m\u001b[0;34m)\u001b[0m\u001b[0;34m:\u001b[0m\u001b[0;34m\u001b[0m\u001b[0;34m\u001b[0m\u001b[0m\n",
      "\u001b[0;31mAttributeError\u001b[0m: to_csv not found"
     ]
    }
   ],
   "source": [
    "X_train_dtm.to_csv(r'/Users/langchen777/Desktop/train_dtm.csv', index = False)\n",
    "X_test_dtm.to_csv(r'/Users/langchen777/Desktop/test_dtm.csv', index = False)"
   ]
  },
  {
   "cell_type": "code",
   "execution_count": 42,
   "id": "87592477",
   "metadata": {},
   "outputs": [
    {
     "data": {
      "text/plain": [
       "<397275x4304288 sparse matrix of type '<class 'numpy.int64'>'\n",
       "\twith 36194091 stored elements in Compressed Sparse Row format>"
      ]
     },
     "execution_count": 42,
     "metadata": {},
     "output_type": "execute_result"
    }
   ],
   "source": [
    "X_train_dtm"
   ]
  },
  {
   "cell_type": "code",
   "execution_count": 44,
   "id": "cd7441c6",
   "metadata": {},
   "outputs": [
    {
     "ename": "ValueError",
     "evalue": "Expected 1D or 2D array, got 0D array instead",
     "output_type": "error",
     "traceback": [
      "\u001b[0;31m---------------------------------------------------------------------------\u001b[0m",
      "\u001b[0;31mValueError\u001b[0m                                Traceback (most recent call last)",
      "\u001b[0;32m<ipython-input-44-d956dd28f747>\u001b[0m in \u001b[0;36m<module>\u001b[0;34m\u001b[0m\n\u001b[1;32m      4\u001b[0m \u001b[0;31m# define data\u001b[0m\u001b[0;34m\u001b[0m\u001b[0;34m\u001b[0m\u001b[0;34m\u001b[0m\u001b[0m\n\u001b[1;32m      5\u001b[0m \u001b[0;31m# save to csv file\u001b[0m\u001b[0;34m\u001b[0m\u001b[0;34m\u001b[0m\u001b[0;34m\u001b[0m\u001b[0m\n\u001b[0;32m----> 6\u001b[0;31m \u001b[0msavetxt\u001b[0m\u001b[0;34m(\u001b[0m\u001b[0;34m'X_train_dtm.csv'\u001b[0m\u001b[0;34m,\u001b[0m \u001b[0mX_train_dtm\u001b[0m\u001b[0;34m,\u001b[0m \u001b[0mdelimiter\u001b[0m\u001b[0;34m=\u001b[0m\u001b[0;34m','\u001b[0m\u001b[0;34m)\u001b[0m\u001b[0;34m\u001b[0m\u001b[0;34m\u001b[0m\u001b[0m\n\u001b[0m",
      "\u001b[0;32m<__array_function__ internals>\u001b[0m in \u001b[0;36msavetxt\u001b[0;34m(*args, **kwargs)\u001b[0m\n",
      "\u001b[0;32m~/LangChen777/anaconda3/lib/python3.8/site-packages/numpy/lib/npyio.py\u001b[0m in \u001b[0;36msavetxt\u001b[0;34m(fname, X, fmt, delimiter, newline, header, footer, comments, encoding)\u001b[0m\n\u001b[1;32m   1378\u001b[0m         \u001b[0;31m# Handle 1-dimensional arrays\u001b[0m\u001b[0;34m\u001b[0m\u001b[0;34m\u001b[0m\u001b[0;34m\u001b[0m\u001b[0m\n\u001b[1;32m   1379\u001b[0m         \u001b[0;32mif\u001b[0m \u001b[0mX\u001b[0m\u001b[0;34m.\u001b[0m\u001b[0mndim\u001b[0m \u001b[0;34m==\u001b[0m \u001b[0;36m0\u001b[0m \u001b[0;32mor\u001b[0m \u001b[0mX\u001b[0m\u001b[0;34m.\u001b[0m\u001b[0mndim\u001b[0m \u001b[0;34m>\u001b[0m \u001b[0;36m2\u001b[0m\u001b[0;34m:\u001b[0m\u001b[0;34m\u001b[0m\u001b[0;34m\u001b[0m\u001b[0m\n\u001b[0;32m-> 1380\u001b[0;31m             raise ValueError(\n\u001b[0m\u001b[1;32m   1381\u001b[0m                 \"Expected 1D or 2D array, got %dD array instead\" % X.ndim)\n\u001b[1;32m   1382\u001b[0m         \u001b[0;32melif\u001b[0m \u001b[0mX\u001b[0m\u001b[0;34m.\u001b[0m\u001b[0mndim\u001b[0m \u001b[0;34m==\u001b[0m \u001b[0;36m1\u001b[0m\u001b[0;34m:\u001b[0m\u001b[0;34m\u001b[0m\u001b[0;34m\u001b[0m\u001b[0m\n",
      "\u001b[0;31mValueError\u001b[0m: Expected 1D or 2D array, got 0D array instead"
     ]
    }
   ],
   "source": [
    "# save numpy array as csv file\n",
    "from numpy import asarray\n",
    "from numpy import savetxt\n",
    "# define data\n",
    "# save to csv file\n",
    "savetxt('X_train_dtm.csv', X_train_dtm, delimiter=',')"
   ]
  },
  {
   "cell_type": "code",
   "execution_count": 45,
   "id": "171adde1",
   "metadata": {},
   "outputs": [],
   "source": [
    "import pickle\n",
    "\n",
    "with open('/Users/langchen777/Desktop/X_train_dtm.pickle', 'wb') as f:\n",
    "    pickle.dump(X_train_dtm, f)\n",
    "with open('/Users/langchen777/Desktop/X_test_dtm.pickle', 'wb') as f:\n",
    "    pickle.dump(X_test_dtm, f)"
   ]
  },
  {
   "cell_type": "code",
   "execution_count": null,
   "id": "d237275e",
   "metadata": {},
   "outputs": [],
   "source": []
  }
 ],
 "metadata": {
  "kernelspec": {
   "display_name": "Python 3",
   "language": "python",
   "name": "python3"
  },
  "language_info": {
   "codemirror_mode": {
    "name": "ipython",
    "version": 3
   },
   "file_extension": ".py",
   "mimetype": "text/x-python",
   "name": "python",
   "nbconvert_exporter": "python",
   "pygments_lexer": "ipython3",
   "version": "3.8.8"
  }
 },
 "nbformat": 4,
 "nbformat_minor": 5
}
