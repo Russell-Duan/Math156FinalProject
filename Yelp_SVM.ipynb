{
 "cells": [
  {
   "cell_type": "markdown",
   "id": "3286d395",
   "metadata": {},
   "source": [
    "Loading data"
   ]
  },
  {
   "cell_type": "code",
   "execution_count": 16,
   "id": "2b44e605",
   "metadata": {},
   "outputs": [],
   "source": [
    "import pandas as pd\n",
    "import pickle\n",
    "import numpy as np"
   ]
  },
  {
   "cell_type": "code",
   "execution_count": 4,
   "id": "5482e91f",
   "metadata": {},
   "outputs": [],
   "source": [
    "data_train = pd.read_csv('C:/Users/Yujie/Desktop/train.csv')\n",
    "data_test = pd.read_csv('C:/Users/Yujie/Desktop/test.csv')"
   ]
  },
  {
   "cell_type": "code",
   "execution_count": 5,
   "id": "b29d8000",
   "metadata": {},
   "outputs": [],
   "source": [
    "X_train = data_train['review'].tolist()\n",
    "y_train = data_train['sentiment'].tolist()"
   ]
  },
  {
   "cell_type": "code",
   "execution_count": 6,
   "id": "3370b85d",
   "metadata": {},
   "outputs": [],
   "source": [
    "X_test = data_test['review'].tolist()\n",
    "y_test = data_test['sentiment'].tolist()"
   ]
  },
  {
   "cell_type": "markdown",
   "id": "5cafb37c",
   "metadata": {},
   "source": [
    "model"
   ]
  },
  {
   "cell_type": "code",
   "execution_count": 7,
   "id": "2d6e4822",
   "metadata": {},
   "outputs": [],
   "source": [
    "from sklearn.svm import LinearSVC\n",
    "from sklearn.model_selection import GridSearchCV"
   ]
  },
  {
   "cell_type": "code",
   "execution_count": 18,
   "id": "5bb08ebe",
   "metadata": {},
   "outputs": [
    {
     "name": "stdout",
     "output_type": "stream",
     "text": [
      "Fitting 3 folds for each of 6 candidates, totalling 18 fits\n"
     ]
    },
    {
     "data": {
      "text/plain": [
       "GridSearchCV(cv=3, estimator=LinearSVC(),\n",
       "             param_grid={'C': array([1.00000000e-05, 3.98107171e-05, 1.58489319e-04, 6.30957344e-04,\n",
       "       2.51188643e-03, 1.00000000e-02])},\n",
       "             scoring='f1_macro', verbose=1)"
      ]
     },
     "execution_count": 18,
     "metadata": {},
     "output_type": "execute_result"
    }
   ],
   "source": [
    "params = {'C' : np.logspace(-5, -2, 6)}\n",
    "\n",
    "gscv = GridSearchCV(LinearSVC(max_iter=1000),\n",
    "                    params,\n",
    "                    scoring='f1_macro',\n",
    "                    cv=3,\n",
    "                    verbose=1)\n",
    "gscv.fit(X_train_dtm, y_train)"
   ]
  },
  {
   "cell_type": "code",
   "execution_count": 19,
   "id": "1ba8a623",
   "metadata": {},
   "outputs": [
    {
     "name": "stdout",
     "output_type": "stream",
     "text": [
      "{'C': 0.01}\n"
     ]
    }
   ],
   "source": [
    "print(gscv.best_params_)"
   ]
  },
  {
   "cell_type": "code",
   "execution_count": 20,
   "id": "26189f05",
   "metadata": {},
   "outputs": [],
   "source": [
    "model = LinearSVC(max_iter=1000,\n",
    "                  C=0.01,\n",
    "                  random_state=647)"
   ]
  },
  {
   "cell_type": "code",
   "execution_count": 9,
   "id": "5d7d5e32",
   "metadata": {},
   "outputs": [],
   "source": [
    "with open('C:/Users/Yujie/Desktop/X_train_dtm.pickle', 'rb') as f:\n",
    "    X_train_dtm = pickle.load(f)"
   ]
  },
  {
   "cell_type": "code",
   "execution_count": 21,
   "id": "27839281",
   "metadata": {},
   "outputs": [
    {
     "data": {
      "text/plain": [
       "LinearSVC(C=0.01, random_state=647)"
      ]
     },
     "execution_count": 21,
     "metadata": {},
     "output_type": "execute_result"
    }
   ],
   "source": [
    "model.fit(X_train_dtm, y_train)"
   ]
  },
  {
   "cell_type": "code",
   "execution_count": 11,
   "id": "8248a500",
   "metadata": {},
   "outputs": [],
   "source": [
    "with open('C:/Users/Yujie/Desktop/X_test_dtm.pickle', 'rb') as f:\n",
    "    X_test_dtm = pickle.load(f)"
   ]
  },
  {
   "cell_type": "code",
   "execution_count": 22,
   "id": "fede6389",
   "metadata": {},
   "outputs": [],
   "source": [
    "y_predict = model.predict(X_test_dtm)"
   ]
  },
  {
   "cell_type": "code",
   "execution_count": 23,
   "id": "4b1894e2",
   "metadata": {},
   "outputs": [],
   "source": [
    "diff = y_predict-y_test"
   ]
  },
  {
   "cell_type": "code",
   "execution_count": 24,
   "id": "ee95ccfb",
   "metadata": {},
   "outputs": [
    {
     "data": {
      "text/plain": [
       "0.8723201812346612"
      ]
     },
     "execution_count": 24,
     "metadata": {},
     "output_type": "execute_result"
    }
   ],
   "source": [
    "len(diff[diff == 0])/len(y_predict)"
   ]
  }
 ],
 "metadata": {
  "kernelspec": {
   "display_name": "Python 3",
   "language": "python",
   "name": "python3"
  },
  "language_info": {
   "codemirror_mode": {
    "name": "ipython",
    "version": 3
   },
   "file_extension": ".py",
   "mimetype": "text/x-python",
   "name": "python",
   "nbconvert_exporter": "python",
   "pygments_lexer": "ipython3",
   "version": "3.8.8"
  }
 },
 "nbformat": 4,
 "nbformat_minor": 5
}
